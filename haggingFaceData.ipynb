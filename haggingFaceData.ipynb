{
 "cells": [
  {
   "cell_type": "markdown",
   "metadata": {},
   "source": [
    "## here is a Q/A dataset that I will use in training my basic retreival-based chatboot"
   ]
  },
  {
   "cell_type": "code",
   "execution_count": 5,
   "metadata": {},
   "outputs": [
    {
     "name": "stdout",
     "output_type": "stream",
     "text": [
      "DatasetDict({\n",
      "    train: Dataset({\n",
      "        features: ['flags', 'instruction', 'category', 'intent', 'response'],\n",
      "        num_rows: 26872\n",
      "    })\n",
      "})\n"
     ]
    }
   ],
   "source": [
    "from datasets import load_dataset\n",
    "\n",
    "data_set = load_dataset(\"bitext/Bitext-customer-support-llm-chatbot-training-dataset\")\n",
    "\n",
    "print(data_set)"
   ]
  },
  {
   "cell_type": "markdown",
   "metadata": {},
   "source": [
    "# let's dispaly 10 differnt order"
   ]
  },
  {
   "cell_type": "code",
   "execution_count": 18,
   "metadata": {},
   "outputs": [
    {
     "data": {
      "text/plain": [
       "['question about cancelling order {{Order Number}}',\n",
       " 'want help adding an item to order {{Order Number}}',\n",
       " 'can you help me correct my delivery address?',\n",
       " 'want help to see the termination charge',\n",
       " 'I do not know what I have to do to check my bill #12588',\n",
       " 'see what payment optionsx are allowed',\n",
       " 'can you help me see how long refunds take?',\n",
       " \"I'm dissatisfied with ur work help me making a complaint\",\n",
       " 'can you help me getting in touch with customer service?',\n",
       " 'I want assistance contacting someone',\n",
       " 'open a {{Account Type}} account',\n",
       " 'deleting {{Account Category}} account',\n",
       " 'do ya deoiver to {{Delivery City}}',\n",
       " 'need to check how soon can i expect my product',\n",
       " 'change details on standard account',\n",
       " 'assistance downloading my invoice from {{Person Name}}',\n",
       " 'help demanding rebates of money',\n",
       " 'where can I sign up to the corporate newsletter?',\n",
       " 'would it be possible to inform of a problem with payment?',\n",
       " 'shop several articles',\n",
       " 'assistance to recover the key of my user profile',\n",
       " 'i cant open an accojnt help me to notify of a sign-up issue',\n",
       " \"I don't know how I can submit some feedback\",\n",
       " 'there are problems submitting my new shipping address',\n",
       " 'I want to change to the gold account, help me',\n",
       " 'assistance to check the eta of order  {{Order Number}}',\n",
       " 'where do i track the refund']"
      ]
     },
     "execution_count": 18,
     "metadata": {},
     "output_type": "execute_result"
    }
   ],
   "source": [
    "data_set['train']['instruction'][::1000]"
   ]
  },
  {
   "cell_type": "markdown",
   "metadata": {},
   "source": [
    "# let's display their answer"
   ]
  },
  {
   "cell_type": "code",
   "execution_count": 19,
   "metadata": {},
   "outputs": [
    {
     "data": {
      "text/plain": [
       "[\"I've understood you have a question regarding canceling order {{Order Number}}, and I'm here to provide you with the information you need. Please go ahead and ask your question, and I'll do my best to assist you.\",\n",
       " 'Thank you for getting in touch to us for assistance with adding an item to your order. We understand the importance of getting your order just right. To help you with this, could you please provide us with the details of the item you would like to add? By having this information, we can ensure that your order is complete and meets your expectations. We appreciate your cooperation and look forward to assisting you further.',\n",
       " \"Sure! I'm here to assist you with correcting your delivery address. Please provide me with the necessary details, such as your current address and the correct address you would like to change it to, and I'll guide you through the process.\",\n",
       " \"I'll make it happen! I can provide you with assistance in viewing the termination charge. To do so, you can log in to your account and navigate to the section where your account details are displayed. Look for any information related to termination or cancellation fees, and you should find the details you're looking for. If you're unable to locate this information, please let me know and I'll be more than happy to help you further.\",\n",
       " 'I\\'m on the same page, your confusion about finding the invoice with the number #{{Invoice Number}}. Don\\'t worry, I\\'m here to help! To check your bill, you can try the following steps:\\n\\n1. Log in to your account on our website or mobile app.\\n2. Navigate to the \"Billing\" or \"Invoices\" section.\\n3. Look for the option to view or download your invoices.\\n4. Enter the invoice number {{Invoice Number}} in the search or filter bar, if available.\\n5. If you can\\'t find a specific search option, try sorting the invoices by date or contact our customer support team for further assistance.\\n\\nRemember, if you have any trouble locating your bill or need any further guidance, feel free to ask. We\\'re here to make sure you can access and understand your invoice with ease.',\n",
       " \"I appreciate your inquiry! I'm here to assist you in discovering the payment options we accept at our company. By offering a variety of convenient choices, we aim to accommodate your preferences. Here are the payment methods we currently allow:\\n\\n- **Credit/Debit Card:** Visa, Mastercard, and American Express are all accepted.\\n- **PayPal:** A widely recognized and secure online payment platform.\\n- **Bank Transfer:** This option allows for direct payments from your bank account.\\n- **Apple Pay:** For Apple users, this method provides a seamless payment experience.\\n- **Google Wallet:** Another popular payment system for quick and easy checkouts.\\n\\nPlease let me know if you require more information or assistance with any of these methods. It's our pleasure to be of service to you.\",\n",
       " \"Assuredly! I understand that knowing the timeframe for refunds is crucial for you. The length of time it takes to process a refund can vary depending on several factors. Typically, refunds are processed within a few business days after the return or cancellation has been initiated. However, it's important to note that the exact timeframe may depend on various elements such as the payment method used, the nature of the product or service, the company's refund policy, and any applicable regulations and procedures.\\n\\nTo provide you with more accurate and specific information about the refund process, I encourage you to provide me with the details of your particular purchase. This way, I can look into it further and provide a more precise estimate of the refund timeline. Please share the {{Order Number}} or any relevant details, and I'll be more than happy to assist you further in determining the expected duration for your refund.\\n\\nRest assured, we strive to process refunds as quickly as possible while adhering to relevant guidelines and ensuring a fair and accurate resolution. Our aim is to ensure your satisfaction throughout the process.\\n\\nIs there anything else I can assist you with today?\",\n",
       " \"I'm truly sorry to hear that you're dissatisfied with our work. Your feedback is essential to us as we continuously strive to improve our services and meet your expectations. We value your concerns and would like to address them promptly and effectively. Could you please provide me with more details about your complaint? This will help us thoroughly investigate the matter and provide you with a satisfactory resolution.\",\n",
       " \"Thanks for getting in touch! I grasp that you need assistance in getting in touch with our customer service team. Rest assured, I am here to help you navigate through this process. To contact our customer service, you can reach them during their available hours at {{Customer Support Hours}}. They can provide you with the necessary support and guidance to address your concerns. Feel free to share any further details or questions you may have, and I'll be more than happy to assist you further.\",\n",
       " \"Thank you for contacting! I certainly recognize that you are seeking assistance in contacting someone. I'm here to help! Could you please provide more details about who you are trying to contact and the reason for your communication? With this information, I will be able to guide you to the most appropriate channel or provide you with the necessary contact details. Your satisfaction is our top priority, and we are committed to helping you connect with the right person efficiently. Take a moment to share the specific details, and we'll work together to find the best solution for you!\",\n",
       " \"I'm thrilled to assist you in opening a {{Account Type}} account. It's a great choice! To get started, I would need a few details from you. Could you please provide the full name, email address, and a preferred username for the account? Once we have these details, I'll guide you step-by-step through the process, making sure you're well-informed at every stage. You can trust that your privacy and security are of the utmost importance to us, and we'll handle your information with the highest level of care.\",\n",
       " \"We've received your message to us regarding the deletion of your {{Account Category}} account. I'm here to assist you throughout the process and make sure your concerns are addressed. Could you please provide me with more information about the issues you are facing or any specific questions you have about deleting your account? By understanding your concerns fully, I'll be able to provide you with the most accurate and helpful guidance.\",\n",
       " \"I'll do my best! We do offer delivery to {{Delivery City}}. In fact, we have a wide range of shipping options available for you to choose from. Whether you prefer standard shipping, expedited shipping, or even in-store pickup, we have you covered. Each option is designed to meet your specific needs and ensure a smooth and reliable delivery experience. So rest assured, we'll be able to deliver your items to {{Delivery City}} without any issues. If you have any more questions or need further assistance, feel free to ask. Happy shipping to {{Delivery City}}!\",\n",
       " \"For sure! I completely understand your need to have a clear idea of when your product will arrive. To provide you with accurate information, could you please provide me with the {{Tracking Number}} or {{Order Number}}? With that information, I'll be able to give you an estimate of the expected delivery date. Your patience is highly appreciated!\",\n",
       " \"It's absolutely inspiring to witness your dedication to personalizing and updating the details on your standard account. We understand that your account information is essential to you, and we're here to guide and empower you through this process. To make the necessary changes, you can log into our secure {{Online Company Portal Info}} and navigate to the account settings section. Our user-friendly interface will assist you in updating your personal and account details effortlessly. If you encounter any difficulties along the way, our friendly customer support team is just a phone call or chat away, ready to provide the assistance you need. Together, we'll ensure that your standard account reflects the most accurate and up-to-date information.\",\n",
       " \"I'll take care of it! I completely understand your need for assistance in downloading your invoice from {{Salutation}} {{Client First Name}} {{Client Last Name}}. Let me guide you through the process step by step. First, please log in to your account and navigate to the 'Invoices' section. From there, you should be able to view and download your invoice for your reference. If you encounter any issues or have further questions, please don't hesitate to let me know. I'm here to help ensure a smooth experience for you.\",\n",
       " \"I can see that you're seeking assistance in demanding rebates for your money. I'm here to support you through this process and guide you towards a resolution. To help you with your request, could you please provide me with more details about the situation? Understanding the specific circumstances will enable me to provide you with the most accurate and effective guidance. Remember that your feedback is valuable, and with your trust, we can work together to ensure that you receive the reimbursements you deserve.\",\n",
       " 'We appreciate your interest in signing up for our corporate newsletter! To subscribe, you can visit our website and locate the newsletter subscription section. It\\'s usually located on the homepage or in the footer menu. Once you find it, simply enter your email address and click the \"Subscribe\" or \"Sign Up\" button. This will ensure that you receive regular updates, exclusive offers, and valuable content directly in your inbox. Thank you for choosing to stay connected with us!',\n",
       " \"Assuredly! I'm here to assist you with any problems you're experiencing regarding your payment. Please provide me with some specific details about the issue you're facing so that I can offer you the best possible solution. Your feedback is highly valued, and together we will work towards resolving this problem. Thank you for bringing this to our attention, and I appreciate your patience as we work on this together.\",\n",
       " \"Thank you for your interest in shopping for several articles! I'm here to assist you in finding the perfect items that meet your requirements. To get started, could you please provide me with some details such as the type of articles you're looking for, any specific brands or styles you prefer, and your budget? This will help me tailor my recommendations and ensure a successful shopping experience for you. Let's make your shopping journey a delightful one!\",\n",
       " 'Indeed! I understand the importance of recovering the key to your user profile, and I\\'m here to assist you every step of the way. To recover your user profile key, please follow these instructions:\\n\\n1. First, visit the \"{{Login Page URL}}\" of our platform.\\n2. Look for the \"Forgot Key\" option and click on it.\\n3. Provide the necessary information, such as your registered email address or username, to verify your identity.\\n4. Once your identity is confirmed, you will receive a detailed email with instructions on how to reset your user profile key.\\n5. It\\'s important to note that the email containing the instructions may take a few minutes to arrive. Please check your spam or junk folders if you don\\'t see it in your inbox.\\n6. Follow the instructions provided in the email to create a new key for your user profile.\\n\\nIf you encounter any difficulties during this process or if you have any further questions, please don\\'t hesitate to reach out to me. I\\'m here to help and ensure that you regain access to your user profile successfully.',\n",
       " \"I'm glad you contacted us to us and expressing your difficulty in opening an account. We understand the frustration that arises from encountering sign-up issues. Rest assured, we are here to help you navigate through this process smoothly. To notify us of the sign-up issue you're facing, please provide us with more details regarding the problem. This will enable us to assist you promptly and find the best possible solution. We appreciate your patience, and we are committed to resolving the issue you're facing as quickly as possible.\",\n",
       " \"It's completely understandable if you're unsure about how to submit your feedback. To make it easier for you, I'd be glad to guide you through the process step by step. Could you please let me know if you would like to provide feedback for a specific product, service, or overall experience with our company? This information will help me tailor my instructions to your specific needs and ensure a seamless feedback submission process.\",\n",
       " \"I'm sorry to hear that you're encountering difficulties when trying to submit your new shipping address. I completely understand the frustration and the need for a resolution. To better assist you, could you please provide some additional information about the specific problems you're facing? Are you receiving any error messages? Is the website not accepting your address? By understanding the details, I'll be able to offer you tailored guidance and support to ensure your new shipping address is successfully submitted.\",\n",
       " \"I'll do my best! I'm thrilled to assist you with upgrading to the {{Account Type}} account:\\n\\n1. Log In: Start by logging into our platform using your credentials.\\n2. Navigate to Account Settings: Once logged in, locate the '{{Settings}}' or '{{Profile}}' section of your account.\\n3. Upgrade Option: Within this section, you will find an option labeled '{{Upgrade Account}}' or '{{Account Change}}'.\\n4. Select {{Account Type}} Account: Choose the '{{Account Type}}' option from the available choices.\\n5. Finalize the Switch: Follow the on-screen prompts and instructions to complete the switch to the {{Account Type}} account.\\n\\nFeel free to reach out if you encounter any challenges or have further questions. Your decision to upgrade is highly appreciated, and I'm here to ensure a seamless and enjoyable experience with the {{Account Type}} account. Enjoy the exclusive benefits that come with it!\",\n",
       " \"We're listening! I'm keyed into the fact that you would like assistance with checking the estimated time of arrival (ETA) for your order with the order number {{Order Number}}. To provide you with the most accurate information, I kindly request you to provide some additional details, such as the name associated with the order or any reference number you may have. This will allow me to locate the order and provide you with the ETA. Once I have the necessary information, I will be more than happy to assist you further.\",\n",
       " 'We understand how important it is for you to track your refund. To assist you with this, you can easily track your refund by visiting our website and navigating to the \"Refund Tracking\" section. Once there, you will be prompted to enter your order details, such as the order number and your email address. This will allow you to receive real-time updates on the status of your refund. If you encounter any issues or require further assistance, our dedicated customer support team is available 24/7 to help you through live chat or over the phone. Your satisfaction is our utmost priority, and we\\'re here to ensure a seamless refund tracking experience for you.']"
      ]
     },
     "execution_count": 19,
     "metadata": {},
     "output_type": "execute_result"
    }
   ],
   "source": [
    "data_set['train']['response'][::1000]"
   ]
  }
 ],
 "metadata": {
  "kernelspec": {
   "display_name": "chatVenv",
   "language": "python",
   "name": "python3"
  },
  "language_info": {
   "codemirror_mode": {
    "name": "ipython",
    "version": 3
   },
   "file_extension": ".py",
   "mimetype": "text/x-python",
   "name": "python",
   "nbconvert_exporter": "python",
   "pygments_lexer": "ipython3",
   "version": "3.12.4"
  }
 },
 "nbformat": 4,
 "nbformat_minor": 2
}
